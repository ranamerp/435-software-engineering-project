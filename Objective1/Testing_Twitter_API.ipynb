{
  "nbformat": 4,
  "nbformat_minor": 0,
  "metadata": {
    "language_info": {
      "codemirror_mode": {
        "name": "ipython",
        "version": 3
      },
      "file_extension": ".py",
      "mimetype": "text/x-python",
      "name": "python",
      "nbconvert_exporter": "python",
      "pygments_lexer": "ipython3",
      "version": "3.8.3-final"
    },
    "orig_nbformat": 2,
    "kernelspec": {
      "name": "python38364bit018a34a9adc24d1a9d1660c2d8b18cf7",
      "display_name": "Python 3.8.3 64-bit"
    },
    "colab": {
      "name": "Testing Twitter API.ipynb",
      "provenance": [],
      "include_colab_link": true
    }
  },
  "cells": [
    {
      "cell_type": "markdown",
      "metadata": {
        "id": "view-in-github",
        "colab_type": "text"
      },
      "source": [
        "<a href=\"https://colab.research.google.com/github/ranamerp/435-software-engineering-project/blob/master/Testing_Twitter_API.ipynb\" target=\"_parent\"><img src=\"https://colab.research.google.com/assets/colab-badge.svg\" alt=\"Open In Colab\"/></a>"
      ]
    },
    {
      "cell_type": "markdown",
      "metadata": {
        "id": "BTWb98zn12oQ",
        "colab_type": "text"
      },
      "source": [
        "This is just a test notebook I created for the twitter API. You can mess around with this and play with it as you would like. \n",
        "\n",
        "Tweepy documentation here: http://docs.tweepy.org/en/latest/"
      ]
    },
    {
      "cell_type": "code",
      "metadata": {
        "id": "cMuPA2FC1Xpc",
        "colab_type": "code",
        "colab": {}
      },
      "source": [
        "import tweepy as tw\n",
        "import pandas as pd\n",
        "import time"
      ],
      "execution_count": 1,
      "outputs": []
    },
    {
      "cell_type": "code",
      "metadata": {
        "id": "sVyS1BP_1Xpg",
        "colab_type": "code",
        "colab": {}
      },
      "source": [
        "consumer_key = 'Duko8zJpuAMqAqOCGn3gLCdU7'\n",
        "consumer_secret= 'K116dYN4lj0Ol4DGUsiCMAH8Vhz5tL02k3OPERWifGmwDLJ2rm'\n",
        "access_token= '603210098-mkYuAJoQ5SptpC7laiENIFeyquRwCqPfA2XRTgt0'\n",
        "access_token_secret= 'vMeTce7nJffxEFDOGyNHrCHYIYIARP0IVywjaHPhg6oN8'\n",
        "\n",
        "auth = tw.OAuthHandler(consumer_key, consumer_secret)\n",
        "auth.set_access_token(access_token, access_token_secret)\n",
        "api = tw.API(auth, wait_on_rate_limit=True)"
      ],
      "execution_count": 2,
      "outputs": []
    },
    {
      "cell_type": "code",
      "metadata": {
        "tags": [],
        "id": "RNuRdwCx1Xpj",
        "colab_type": "code",
        "colab": {
          "base_uri": "https://localhost:8080/",
          "height": 470
        },
        "outputId": "786ff621-2717-4183-d851-d5a932340316"
      },
      "source": [
        "search_words = \"#californiafires\" + \" -filter:retweets\"\n",
        "date_since = \"2020-01-16\"\n",
        "\n",
        "print(\"Getting Tweets\")\n",
        "tweets = tw.Cursor(api.search, \n",
        "                           q=search_words,\n",
        "                           lang=\"en\",\n",
        "                           since=date_since).items(1000)\n",
        "print(\"Saving Tweets to List..\")\n",
        "users_locs = [[tweet.user.screen_name, tweet.text, tweet.user.location] for tweet in tweets]\n",
        "#users_locs = []\n",
        "#for i in tweets:\n",
        "#    users_locs.append([i.user.screen_name, i.text])\n",
        "\n",
        "print(\"Converting Tweets to DataFrame...\")\n",
        "tweet_text = pd.DataFrame(data=users_locs, \n",
        "                    columns=['user', \"tweet\", \"location\"])\n",
        "tweet_text"
      ],
      "execution_count": 3,
      "outputs": [
        {
          "output_type": "stream",
          "text": [
            "Getting Tweets\n",
            "Saving Tweets to List..\n",
            "Converting Tweets to DataFrame...\n"
          ],
          "name": "stdout"
        },
        {
          "output_type": "execute_result",
          "data": {
            "text/html": [
              "<div>\n",
              "<style scoped>\n",
              "    .dataframe tbody tr th:only-of-type {\n",
              "        vertical-align: middle;\n",
              "    }\n",
              "\n",
              "    .dataframe tbody tr th {\n",
              "        vertical-align: top;\n",
              "    }\n",
              "\n",
              "    .dataframe thead th {\n",
              "        text-align: right;\n",
              "    }\n",
              "</style>\n",
              "<table border=\"1\" class=\"dataframe\">\n",
              "  <thead>\n",
              "    <tr style=\"text-align: right;\">\n",
              "      <th></th>\n",
              "      <th>user</th>\n",
              "      <th>tweet</th>\n",
              "      <th>location</th>\n",
              "    </tr>\n",
              "  </thead>\n",
              "  <tbody>\n",
              "    <tr>\n",
              "      <th>0</th>\n",
              "      <td>Burrbur1</td>\n",
              "      <td>Is the monster ever going to show his support ...</td>\n",
              "      <td>California, USA</td>\n",
              "    </tr>\n",
              "    <tr>\n",
              "      <th>1</th>\n",
              "      <td>withfirenotfear</td>\n",
              "      <td>The #CaliforniaFires are a hoax the way #COVID...</td>\n",
              "      <td>Los Angeles, CA</td>\n",
              "    </tr>\n",
              "    <tr>\n",
              "      <th>2</th>\n",
              "      <td>Privame</td>\n",
              "      <td>Bring Mars to Fremont! @elonmusk @Stranger_Thi...</td>\n",
              "      <td>NY</td>\n",
              "    </tr>\n",
              "    <tr>\n",
              "      <th>3</th>\n",
              "      <td>PatGinSD</td>\n",
              "      <td>@World_Wildlife \\n\\n#UnNaturalFires #Armageddo...</td>\n",
              "      <td></td>\n",
              "    </tr>\n",
              "    <tr>\n",
              "      <th>4</th>\n",
              "      <td>mangiamuse</td>\n",
              "      <td>Man taking a selfie in the San Francisco omino...</td>\n",
              "      <td>San Francisco, CA</td>\n",
              "    </tr>\n",
              "    <tr>\n",
              "      <th>...</th>\n",
              "      <td>...</td>\n",
              "      <td>...</td>\n",
              "      <td>...</td>\n",
              "    </tr>\n",
              "    <tr>\n",
              "      <th>995</th>\n",
              "      <td>r_a_n_d_o_m_a_</td>\n",
              "      <td>The #CaliforniaFires are getting worse.. https...</td>\n",
              "      <td></td>\n",
              "    </tr>\n",
              "    <tr>\n",
              "      <th>996</th>\n",
              "      <td>donnac293</td>\n",
              "      <td>even the west coast knows its time to burn thi...</td>\n",
              "      <td>FLORIDA</td>\n",
              "    </tr>\n",
              "    <tr>\n",
              "      <th>997</th>\n",
              "      <td>maritoalberto79</td>\n",
              "      <td>If I had known today was gonna happen, I would...</td>\n",
              "      <td></td>\n",
              "    </tr>\n",
              "    <tr>\n",
              "      <th>998</th>\n",
              "      <td>1Ailish</td>\n",
              "      <td>Nero fiddled while Rome burned\\nTrump just twe...</td>\n",
              "      <td></td>\n",
              "    </tr>\n",
              "    <tr>\n",
              "      <th>999</th>\n",
              "      <td>wajialam</td>\n",
              "      <td>What #SanFrancisco looks like almost 2 hours a...</td>\n",
              "      <td>San Francisco, CA</td>\n",
              "    </tr>\n",
              "  </tbody>\n",
              "</table>\n",
              "<p>1000 rows × 3 columns</p>\n",
              "</div>"
            ],
            "text/plain": [
              "                user  ...           location\n",
              "0           Burrbur1  ...    California, USA\n",
              "1    withfirenotfear  ...    Los Angeles, CA\n",
              "2            Privame  ...                 NY\n",
              "3           PatGinSD  ...                   \n",
              "4         mangiamuse  ...  San Francisco, CA\n",
              "..               ...  ...                ...\n",
              "995   r_a_n_d_o_m_a_  ...                   \n",
              "996        donnac293  ...            FLORIDA\n",
              "997  maritoalberto79  ...                   \n",
              "998          1Ailish  ...                   \n",
              "999         wajialam  ...  San Francisco, CA\n",
              "\n",
              "[1000 rows x 3 columns]"
            ]
          },
          "metadata": {
            "tags": []
          },
          "execution_count": 3
        }
      ]
    },
    {
      "cell_type": "code",
      "metadata": {
        "id": "pturlQxm1Xpn",
        "colab_type": "code",
        "colab": {}
      },
      "source": [
        "class MyStreamListener(tw.StreamListener):\n",
        "\n",
        "    def on_status(self, status):\n",
        "        print(status.text)"
      ],
      "execution_count": null,
      "outputs": []
    },
    {
      "cell_type": "code",
      "metadata": {
        "tags": [],
        "id": "3jVZkNVz1Xpq",
        "colab_type": "code",
        "colab": {}
      },
      "source": [
        "myStreamListener = MyStreamListener()\n",
        "myStream = tw.Stream(auth = api.auth, listener=myStreamListener)\n",
        "myStream.filter(track=[\"#californiafires -filter:retweets\"], is_async=True)\n",
        "time.sleep(60)\n",
        "myStream.disconnect()"
      ],
      "execution_count": null,
      "outputs": []
    }
  ]
}
